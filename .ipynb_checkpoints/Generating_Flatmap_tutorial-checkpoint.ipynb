{
 "cells": [
  {
   "cell_type": "code",
   "execution_count": 1,
   "metadata": {
    "colab": {
     "base_uri": "https://localhost:8080/"
    },
    "id": "3ypaMgTS0Rbq",
    "outputId": "43471985-7fbb-41cb-ee9e-f06d63f8ea41"
   },
   "outputs": [
    {
     "name": "stdout",
     "output_type": "stream",
     "text": [
      "Requirement already satisfied: ipyleaflet in /home/archit/.local/lib/python3.8/site-packages (0.17.0)\n",
      "Requirement already satisfied: xyzservices>=2021.8.1 in /home/archit/.local/lib/python3.8/site-packages (from ipyleaflet) (2022.6.0)\n",
      "Requirement already satisfied: traittypes<3,>=0.2.1 in /home/archit/.local/lib/python3.8/site-packages (from ipyleaflet) (0.2.1)\n",
      "Requirement already satisfied: ipywidgets<8,>=7.6.0 in /home/archit/.local/lib/python3.8/site-packages (from ipyleaflet) (7.7.1)\n",
      "Requirement already satisfied: traitlets>=4.2.2 in /home/archit/.local/lib/python3.8/site-packages (from traittypes<3,>=0.2.1->ipyleaflet) (5.3.0)\n",
      "Requirement already satisfied: ipython-genutils~=0.2.0 in /home/archit/.local/lib/python3.8/site-packages (from ipywidgets<8,>=7.6.0->ipyleaflet) (0.2.0)\n",
      "Requirement already satisfied: ipykernel>=4.5.1 in /home/archit/.local/lib/python3.8/site-packages (from ipywidgets<8,>=7.6.0->ipyleaflet) (6.15.1)\n",
      "Requirement already satisfied: jupyterlab-widgets>=1.0.0; python_version >= \"3.6\" in /home/archit/.local/lib/python3.8/site-packages (from ipywidgets<8,>=7.6.0->ipyleaflet) (1.1.1)\n",
      "Requirement already satisfied: widgetsnbextension~=3.6.0 in /home/archit/.local/lib/python3.8/site-packages (from ipywidgets<8,>=7.6.0->ipyleaflet) (3.6.1)\n",
      "Requirement already satisfied: ipython>=4.0.0; python_version >= \"3.3\" in /home/archit/.local/lib/python3.8/site-packages (from ipywidgets<8,>=7.6.0->ipyleaflet) (8.4.0)\n",
      "Requirement already satisfied: nest-asyncio in /home/archit/.local/lib/python3.8/site-packages (from ipykernel>=4.5.1->ipywidgets<8,>=7.6.0->ipyleaflet) (1.5.5)\n",
      "Requirement already satisfied: debugpy>=1.0 in /home/archit/.local/lib/python3.8/site-packages (from ipykernel>=4.5.1->ipywidgets<8,>=7.6.0->ipyleaflet) (1.6.2)\n",
      "Requirement already satisfied: tornado>=6.1 in /home/archit/.local/lib/python3.8/site-packages (from ipykernel>=4.5.1->ipywidgets<8,>=7.6.0->ipyleaflet) (6.2)\n",
      "Requirement already satisfied: jupyter-client>=6.1.12 in /home/archit/.local/lib/python3.8/site-packages (from ipykernel>=4.5.1->ipywidgets<8,>=7.6.0->ipyleaflet) (7.3.4)\n",
      "Requirement already satisfied: matplotlib-inline>=0.1 in /home/archit/.local/lib/python3.8/site-packages (from ipykernel>=4.5.1->ipywidgets<8,>=7.6.0->ipyleaflet) (0.1.3)\n",
      "Requirement already satisfied: packaging in /home/archit/.local/lib/python3.8/site-packages (from ipykernel>=4.5.1->ipywidgets<8,>=7.6.0->ipyleaflet) (21.3)\n",
      "Requirement already satisfied: pyzmq>=17 in /home/archit/.local/lib/python3.8/site-packages (from ipykernel>=4.5.1->ipywidgets<8,>=7.6.0->ipyleaflet) (23.2.0)\n",
      "Requirement already satisfied: psutil in /home/archit/.local/lib/python3.8/site-packages (from ipykernel>=4.5.1->ipywidgets<8,>=7.6.0->ipyleaflet) (5.9.1)\n",
      "Requirement already satisfied: notebook>=4.4.1 in /home/archit/.local/lib/python3.8/site-packages (from widgetsnbextension~=3.6.0->ipywidgets<8,>=7.6.0->ipyleaflet) (6.4.12)\n",
      "Requirement already satisfied: backcall in /home/archit/.local/lib/python3.8/site-packages (from ipython>=4.0.0; python_version >= \"3.3\"->ipywidgets<8,>=7.6.0->ipyleaflet) (0.2.0)\n",
      "Requirement already satisfied: stack-data in /home/archit/.local/lib/python3.8/site-packages (from ipython>=4.0.0; python_version >= \"3.3\"->ipywidgets<8,>=7.6.0->ipyleaflet) (0.3.0)\n",
      "Requirement already satisfied: decorator in /home/archit/.local/lib/python3.8/site-packages (from ipython>=4.0.0; python_version >= \"3.3\"->ipywidgets<8,>=7.6.0->ipyleaflet) (5.1.1)\n",
      "Requirement already satisfied: pexpect>4.3; sys_platform != \"win32\" in /usr/lib/python3/dist-packages (from ipython>=4.0.0; python_version >= \"3.3\"->ipywidgets<8,>=7.6.0->ipyleaflet) (4.6.0)\n",
      "Requirement already satisfied: prompt-toolkit!=3.0.0,!=3.0.1,<3.1.0,>=2.0.0 in /home/archit/.local/lib/python3.8/site-packages (from ipython>=4.0.0; python_version >= \"3.3\"->ipywidgets<8,>=7.6.0->ipyleaflet) (3.0.30)\n",
      "Requirement already satisfied: jedi>=0.16 in /home/archit/.local/lib/python3.8/site-packages (from ipython>=4.0.0; python_version >= \"3.3\"->ipywidgets<8,>=7.6.0->ipyleaflet) (0.18.1)\n",
      "Requirement already satisfied: pickleshare in /home/archit/.local/lib/python3.8/site-packages (from ipython>=4.0.0; python_version >= \"3.3\"->ipywidgets<8,>=7.6.0->ipyleaflet) (0.7.5)\n",
      "Requirement already satisfied: pygments>=2.4.0 in /home/archit/.local/lib/python3.8/site-packages (from ipython>=4.0.0; python_version >= \"3.3\"->ipywidgets<8,>=7.6.0->ipyleaflet) (2.12.0)\n",
      "Requirement already satisfied: setuptools>=18.5 in /usr/lib/python3/dist-packages (from ipython>=4.0.0; python_version >= \"3.3\"->ipywidgets<8,>=7.6.0->ipyleaflet) (45.2.0)\n",
      "Requirement already satisfied: entrypoints in /usr/lib/python3/dist-packages (from jupyter-client>=6.1.12->ipykernel>=4.5.1->ipywidgets<8,>=7.6.0->ipyleaflet) (0.3)\n",
      "Requirement already satisfied: jupyter-core>=4.9.2 in /home/archit/.local/lib/python3.8/site-packages (from jupyter-client>=6.1.12->ipykernel>=4.5.1->ipywidgets<8,>=7.6.0->ipyleaflet) (4.11.1)\n",
      "Requirement already satisfied: python-dateutil>=2.8.2 in /home/archit/.local/lib/python3.8/site-packages (from jupyter-client>=6.1.12->ipykernel>=4.5.1->ipywidgets<8,>=7.6.0->ipyleaflet) (2.8.2)\n",
      "Requirement already satisfied: pyparsing!=3.0.5,>=2.0.2 in /home/archit/.local/lib/python3.8/site-packages (from packaging->ipykernel>=4.5.1->ipywidgets<8,>=7.6.0->ipyleaflet) (3.0.9)\n",
      "Requirement already satisfied: nbconvert>=5 in /home/archit/.local/lib/python3.8/site-packages (from notebook>=4.4.1->widgetsnbextension~=3.6.0->ipywidgets<8,>=7.6.0->ipyleaflet) (6.5.0)\n",
      "Requirement already satisfied: prometheus-client in /home/archit/.local/lib/python3.8/site-packages (from notebook>=4.4.1->widgetsnbextension~=3.6.0->ipywidgets<8,>=7.6.0->ipyleaflet) (0.14.1)\n",
      "Requirement already satisfied: jinja2 in /home/archit/.local/lib/python3.8/site-packages (from notebook>=4.4.1->widgetsnbextension~=3.6.0->ipywidgets<8,>=7.6.0->ipyleaflet) (3.1.2)\n",
      "Requirement already satisfied: argon2-cffi in /home/archit/.local/lib/python3.8/site-packages (from notebook>=4.4.1->widgetsnbextension~=3.6.0->ipywidgets<8,>=7.6.0->ipyleaflet) (21.3.0)\n",
      "Requirement already satisfied: nbformat in /home/archit/.local/lib/python3.8/site-packages (from notebook>=4.4.1->widgetsnbextension~=3.6.0->ipywidgets<8,>=7.6.0->ipyleaflet) (5.4.0)\n",
      "Requirement already satisfied: terminado>=0.8.3 in /home/archit/.local/lib/python3.8/site-packages (from notebook>=4.4.1->widgetsnbextension~=3.6.0->ipywidgets<8,>=7.6.0->ipyleaflet) (0.15.0)\n",
      "Requirement already satisfied: Send2Trash>=1.8.0 in /home/archit/.local/lib/python3.8/site-packages (from notebook>=4.4.1->widgetsnbextension~=3.6.0->ipywidgets<8,>=7.6.0->ipyleaflet) (1.8.0)\n",
      "Requirement already satisfied: asttokens in /home/archit/.local/lib/python3.8/site-packages (from stack-data->ipython>=4.0.0; python_version >= \"3.3\"->ipywidgets<8,>=7.6.0->ipyleaflet) (2.0.5)\n",
      "Requirement already satisfied: pure-eval in /home/archit/.local/lib/python3.8/site-packages (from stack-data->ipython>=4.0.0; python_version >= \"3.3\"->ipywidgets<8,>=7.6.0->ipyleaflet) (0.2.2)\n",
      "Requirement already satisfied: executing in /home/archit/.local/lib/python3.8/site-packages (from stack-data->ipython>=4.0.0; python_version >= \"3.3\"->ipywidgets<8,>=7.6.0->ipyleaflet) (0.9.1)\n",
      "Requirement already satisfied: wcwidth in /home/archit/.local/lib/python3.8/site-packages (from prompt-toolkit!=3.0.0,!=3.0.1,<3.1.0,>=2.0.0->ipython>=4.0.0; python_version >= \"3.3\"->ipywidgets<8,>=7.6.0->ipyleaflet) (0.2.5)\n",
      "Requirement already satisfied: parso<0.9.0,>=0.8.0 in /home/archit/.local/lib/python3.8/site-packages (from jedi>=0.16->ipython>=4.0.0; python_version >= \"3.3\"->ipywidgets<8,>=7.6.0->ipyleaflet) (0.8.3)\n",
      "Requirement already satisfied: six>=1.5 in /usr/lib/python3/dist-packages (from python-dateutil>=2.8.2->jupyter-client>=6.1.12->ipykernel>=4.5.1->ipywidgets<8,>=7.6.0->ipyleaflet) (1.14.0)\n",
      "Requirement already satisfied: beautifulsoup4 in /home/archit/.local/lib/python3.8/site-packages (from nbconvert>=5->notebook>=4.4.1->widgetsnbextension~=3.6.0->ipywidgets<8,>=7.6.0->ipyleaflet) (4.11.1)\n",
      "Requirement already satisfied: pandocfilters>=1.4.1 in /home/archit/.local/lib/python3.8/site-packages (from nbconvert>=5->notebook>=4.4.1->widgetsnbextension~=3.6.0->ipywidgets<8,>=7.6.0->ipyleaflet) (1.5.0)\n",
      "Requirement already satisfied: nbclient>=0.5.0 in /home/archit/.local/lib/python3.8/site-packages (from nbconvert>=5->notebook>=4.4.1->widgetsnbextension~=3.6.0->ipywidgets<8,>=7.6.0->ipyleaflet) (0.6.6)\n",
      "Requirement already satisfied: jupyterlab-pygments in /home/archit/.local/lib/python3.8/site-packages (from nbconvert>=5->notebook>=4.4.1->widgetsnbextension~=3.6.0->ipywidgets<8,>=7.6.0->ipyleaflet) (0.2.2)\n",
      "Requirement already satisfied: mistune<2,>=0.8.1 in /home/archit/.local/lib/python3.8/site-packages (from nbconvert>=5->notebook>=4.4.1->widgetsnbextension~=3.6.0->ipywidgets<8,>=7.6.0->ipyleaflet) (0.8.4)\n",
      "Requirement already satisfied: defusedxml in /home/archit/.local/lib/python3.8/site-packages (from nbconvert>=5->notebook>=4.4.1->widgetsnbextension~=3.6.0->ipywidgets<8,>=7.6.0->ipyleaflet) (0.7.1)\n",
      "Requirement already satisfied: tinycss2 in /home/archit/.local/lib/python3.8/site-packages (from nbconvert>=5->notebook>=4.4.1->widgetsnbextension~=3.6.0->ipywidgets<8,>=7.6.0->ipyleaflet) (1.1.1)\n",
      "Requirement already satisfied: bleach in /home/archit/.local/lib/python3.8/site-packages (from nbconvert>=5->notebook>=4.4.1->widgetsnbextension~=3.6.0->ipywidgets<8,>=7.6.0->ipyleaflet) (5.0.1)\n",
      "Requirement already satisfied: MarkupSafe>=2.0 in /home/archit/.local/lib/python3.8/site-packages (from nbconvert>=5->notebook>=4.4.1->widgetsnbextension~=3.6.0->ipywidgets<8,>=7.6.0->ipyleaflet) (2.0.1)\n",
      "Requirement already satisfied: argon2-cffi-bindings in /home/archit/.local/lib/python3.8/site-packages (from argon2-cffi->notebook>=4.4.1->widgetsnbextension~=3.6.0->ipywidgets<8,>=7.6.0->ipyleaflet) (21.2.0)\n"
     ]
    },
    {
     "name": "stdout",
     "output_type": "stream",
     "text": [
      "Requirement already satisfied: fastjsonschema in /home/archit/.local/lib/python3.8/site-packages (from nbformat->notebook>=4.4.1->widgetsnbextension~=3.6.0->ipywidgets<8,>=7.6.0->ipyleaflet) (2.16.1)\n",
      "Requirement already satisfied: jsonschema>=2.6 in /usr/lib/python3/dist-packages (from nbformat->notebook>=4.4.1->widgetsnbextension~=3.6.0->ipywidgets<8,>=7.6.0->ipyleaflet) (3.2.0)\n",
      "Requirement already satisfied: ptyprocess; os_name != \"nt\" in /home/archit/.local/lib/python3.8/site-packages (from terminado>=0.8.3->notebook>=4.4.1->widgetsnbextension~=3.6.0->ipywidgets<8,>=7.6.0->ipyleaflet) (0.7.0)\n",
      "Requirement already satisfied: soupsieve>1.2 in /home/archit/.local/lib/python3.8/site-packages (from beautifulsoup4->nbconvert>=5->notebook>=4.4.1->widgetsnbextension~=3.6.0->ipywidgets<8,>=7.6.0->ipyleaflet) (2.3.2.post1)\n",
      "Requirement already satisfied: webencodings>=0.4 in /home/archit/.local/lib/python3.8/site-packages (from tinycss2->nbconvert>=5->notebook>=4.4.1->widgetsnbextension~=3.6.0->ipywidgets<8,>=7.6.0->ipyleaflet) (0.5.1)\n",
      "Requirement already satisfied: cffi>=1.0.1 in /home/archit/.local/lib/python3.8/site-packages (from argon2-cffi-bindings->argon2-cffi->notebook>=4.4.1->widgetsnbextension~=3.6.0->ipywidgets<8,>=7.6.0->ipyleaflet) (1.15.1)\n",
      "Requirement already satisfied: pycparser in /home/archit/.local/lib/python3.8/site-packages (from cffi>=1.0.1->argon2-cffi-bindings->argon2-cffi->notebook>=4.4.1->widgetsnbextension~=3.6.0->ipywidgets<8,>=7.6.0->ipyleaflet) (2.21)\n",
      "Requirement already satisfied: bs4 in /home/archit/.local/lib/python3.8/site-packages (0.0.1)\n",
      "Requirement already satisfied: beautifulsoup4 in /home/archit/.local/lib/python3.8/site-packages (from bs4) (4.11.1)\n",
      "Requirement already satisfied: soupsieve>1.2 in /home/archit/.local/lib/python3.8/site-packages (from beautifulsoup4->bs4) (2.3.2.post1)\n",
      "Requirement already satisfied: requests in /usr/lib/python3/dist-packages (2.22.0)\n"
     ]
    }
   ],
   "source": [
    "# REQUIREMENTS\n",
    "! pip install ipyleaflet\n",
    "! pip install bs4\n",
    "! pip install requests\n"
   ]
  },
  {
   "cell_type": "code",
   "execution_count": 2,
   "metadata": {
    "id": "-rJgsTxz1B_e"
   },
   "outputs": [],
   "source": [
    "#Import libraries\n",
    "from ipyleaflet import Map, basemaps, basemap_to_tiles, TileLayer, Marker, MarkerCluster\n",
    "from bs4 import BeautifulSoup\n",
    "import requests\n"
   ]
  },
  {
   "cell_type": "markdown",
   "metadata": {
    "id": "c8-0VJiQ65vY"
   },
   "source": [
    "### Scrape all available URLS using Beautiful Soup\n"
   ]
  },
  {
   "cell_type": "code",
   "execution_count": 3,
   "metadata": {
    "id": "9r1SD8My7WHI"
   },
   "outputs": [],
   "source": [
    "#This URL can be changed\n",
    "server_url='https://mapcore-demo.org/current/flatmap/v2'\n",
    "req= requests.get(server_url)\n",
    "url_dict = req.json()"
   ]
  },
  {
   "cell_type": "code",
   "execution_count": 4,
   "metadata": {
    "id": "89dvXsnG9iW1"
   },
   "outputs": [],
   "source": [
    "#JOB : There are fields with non IDs, len=6 eliminated this, think of a smarter way!\n",
    "model_ids = [model_dict['id'] for model_dict in url_dict if 'name' in model_dict.keys() and 'id' in model_dict.keys()]\n",
    "model_name = [model_dict['name'] for model_dict in url_dict if 'name' in model_dict.keys() and 'id' in model_dict.keys()]\n",
    "  "
   ]
  },
  {
   "cell_type": "markdown",
   "metadata": {
    "id": "Qvq-aqVCHT7u"
   },
   "source": [
    "### Get all layers for each model to be added sequentially to the map"
   ]
  },
  {
   "cell_type": "code",
   "execution_count": 5,
   "metadata": {
    "id": "x6d_fG3XHZUR"
   },
   "outputs": [],
   "source": [
    "model_layer_url_list = [f'{server_url}/flatmap/{id}/layers' for id, name in zip(model_ids, model_name)]"
   ]
  },
  {
   "cell_type": "code",
   "execution_count": 6,
   "metadata": {
    "id": "miBrPx-gH06Y"
   },
   "outputs": [],
   "source": [
    "model_image_layers = []\n",
    "for url in model_layer_url_list:\n",
    "  req= requests.get(url)\n",
    "  layer_url_dict = req.json()\n",
    "  model_image_layers.append({layer_url_dict[0]['id'] : layer_url_dict[0]['image-layers']})"
   ]
  },
  {
   "cell_type": "code",
   "execution_count": 19,
   "metadata": {
    "colab": {
     "base_uri": "https://localhost:8080/"
    },
    "id": "sxNM9jFKM78e",
    "outputId": "0221c2e5-2bc9-4e20-e81e-d878cf18d490"
   },
   "outputs": [
    {
     "data": {
      "text/plain": [
       "[{'vagus_test': ['vagus_test_image']},\n",
       " {'whole-human': ['whole-human_image']},\n",
       " {'whole-rat': ['whole-rat_image',\n",
       "   'whole-rat_details_vagus_image',\n",
       "   'whole-rat_details_tissue-slide_image']},\n",
       " {'whole-pig': ['whole-pig_image']},\n",
       " {'whole-rat': ['whole-rat_image',\n",
       "   'whole-rat_details_vagus_image',\n",
       "   'whole-rat_details_tissue-slide_image']},\n",
       " {'whole-rat': ['whole-rat_image', 'whole-rat_details_tissue-slide_image']},\n",
       " {'whole-rat': ['whole-rat_image',\n",
       "   'whole-rat_details_vagus_image',\n",
       "   'whole-rat_details_tissue-slide_image']},\n",
       " {'whole-rat': ['whole-rat_image',\n",
       "   'whole-rat_details_vagus_image',\n",
       "   'whole-rat_details_tissue-slide_image']},\n",
       " {'whole-mouse': ['whole-mouse_image']},\n",
       " {'whole-cat': ['whole-cat_image']},\n",
       " {'whole-human': ['whole-human_image']},\n",
       " {'whole-rat': ['whole-rat_image',\n",
       "   'whole-rat_details_vagus_image',\n",
       "   'whole-rat_details_tissue-slide_image']}]"
      ]
     },
     "execution_count": 19,
     "metadata": {},
     "output_type": "execute_result"
    }
   ],
   "source": [
    "model_image_layers"
   ]
  },
  {
   "cell_type": "markdown",
   "metadata": {
    "id": "C7DiuUhKQ3Lb"
   },
   "source": [
    "### Create a map with all layers of a model added seqentially to a map"
   ]
  },
  {
   "cell_type": "code",
   "execution_count": 8,
   "metadata": {
    "colab": {
     "base_uri": "https://localhost:8080/"
    },
    "id": "udXXrEYsQ7fB",
    "outputId": "aad1aff5-4fd9-4824-a445-15ed2a2679f0"
   },
   "outputs": [
    {
     "data": {
      "text/plain": [
       "['https://mapcore-demo.org/current/flatmap/v2/flatmap/83f6c97d571b67fb4c273e20287b53b4f0a1f70780d3d6a2a282e66cef5f9473/tiles/vagus_test_image/{z}/{x}/{y}']"
      ]
     },
     "execution_count": 8,
     "metadata": {},
     "output_type": "execute_result"
    }
   ],
   "source": [
    "#Choose one of the models in tag (There are 11 in the main URL)\n",
    "tag = 0\n",
    "tile_urls = [f'{server_url}/flatmap/{model_ids[tag]}/tiles/{layer}/{{z}}/{{x}}/{{y}}' for layer in model_image_layers[tag][model_name[tag]]]\n",
    "tile_urls"
   ]
  },
  {
   "cell_type": "code",
   "execution_count": 9,
   "metadata": {},
   "outputs": [],
   "source": [
    "req = requests.get(f'{server_url}/flatmap/{model_ids[tag]}',headers={'Accept':'json'})\n",
    "index_json = req.json()"
   ]
  },
  {
   "cell_type": "code",
   "execution_count": 10,
   "metadata": {
    "id": "JFGhjLyzMM_K"
   },
   "outputs": [],
   "source": [
    "#Create a base map object with the first tile\n",
    "map = Map(\n",
    "    basemap=TileLayer(\n",
    "                    url=tile_urls[0], \n",
    "                    min_zoom=index_json['min-zoom']),\n",
    "    min_zoom=index_json['min-zoom'],\n",
    "    max_zoom=index_json['max-zoom'],\n",
    "    zoom=5,\n",
    "    scroll_wheel_zoom=True,\n",
    "    dragging=True,\n",
    "    attribution_control=False,\n",
    "    zoom_snap=False,\n",
    ")\n",
    "\n",
    "#Create tile objects for the model with each layer added\n",
    "for tile_url in tile_urls[1:]:\n",
    "\n",
    "  map.add(TileLayer(\n",
    "    url=tile_url, \n",
    "    min_zoom=index_json['min-zoom']))\n",
    "\n",
    "bounds = index_json['bounds']\n",
    "map.fit_bounds([[bounds[1],bounds[0]],[bounds[3],bounds[2]]])"
   ]
  },
  {
   "cell_type": "markdown",
   "metadata": {
    "id": "kmAk-4dDYZFo"
   },
   "source": [
    "### Add annotations for the map"
   ]
  },
  {
   "cell_type": "code",
   "execution_count": 11,
   "metadata": {},
   "outputs": [],
   "source": [
    "# Get annotations for this map\n",
    "req = requests.get(f'{server_url}/flatmap/{model_ids[tag]}/annotations')\n",
    "annotations = req.json()"
   ]
  },
  {
   "cell_type": "code",
   "execution_count": 12,
   "metadata": {},
   "outputs": [],
   "source": [
    "# Add all annotations to a Marker Cluster\n",
    "markers = []\n",
    "for key in annotations.keys():\n",
    "    y,x = annotations[key]['centroid']\n",
    "    if 'label' in annotations[key].keys():\n",
    "        marker = Marker(location=[x,y],title=annotations[key]['label'])\n",
    "    else:\n",
    "        marker = Marker(location=[x,y])\n",
    "    markers.append(marker)\n",
    "\n",
    "map.add_layer(MarkerCluster(markers=markers))"
   ]
  },
  {
   "cell_type": "code",
   "execution_count": 13,
   "metadata": {},
   "outputs": [
    {
     "data": {
      "application/vnd.jupyter.widget-view+json": {
       "model_id": "70c28de5e5e448e69b43e024dc573bb4",
       "version_major": 2,
       "version_minor": 0
      },
      "text/plain": [
       "Map(center=[0.0, 0.0], controls=(ZoomControl(options=['position', 'zoom_in_text', 'zoom_in_title', 'zoom_out_t…"
      ]
     },
     "metadata": {},
     "output_type": "display_data"
    }
   ],
   "source": [
    "map"
   ]
  },
  {
   "cell_type": "markdown",
   "metadata": {},
   "source": [
    "### Add annotations for the map"
   ]
  },
  {
   "cell_type": "code",
   "execution_count": 14,
   "metadata": {
    "id": "q8CuFFloQgET"
   },
   "outputs": [],
   "source": [
    "model_annotation_url_list = ['https://mapcore-demo.org/current/flatmap/v2/flatmap/'+id+'/annotations'   for id, name in zip(model_ids, model_name)]"
   ]
  },
  {
   "cell_type": "code",
   "execution_count": 15,
   "metadata": {
    "colab": {
     "base_uri": "https://localhost:8080/"
    },
    "id": "TIClcGXSYm4j",
    "outputId": "b06b184a-4fa1-4756-c5a2-d0507c065d34"
   },
   "outputs": [
    {
     "data": {
      "text/plain": [
       "['https://mapcore-demo.org/current/flatmap/v2/flatmap/83f6c97d571b67fb4c273e20287b53b4f0a1f70780d3d6a2a282e66cef5f9473/annotations',\n",
       " 'https://mapcore-demo.org/current/flatmap/v2/flatmap/4e758a1feb4dd73ac500b29dcf65e9c80031395fd9c2ee4c521c2e784c9885fc/annotations',\n",
       " 'https://mapcore-demo.org/current/flatmap/v2/flatmap/e2b09706ce736b49d48f49f7c83296f1a9e905d26a247da3e7854fb9f2bbdda5/annotations',\n",
       " 'https://mapcore-demo.org/current/flatmap/v2/flatmap/1220ab6b172448ccf9dd8c4d748447248d3185b25123dd5b4700d33c04d80011/annotations',\n",
       " 'https://mapcore-demo.org/current/flatmap/v2/flatmap/f28ef9e4e6bc0ab59b074f82944b9238dad70b37fcf65cc9773089f10d75831a/annotations',\n",
       " 'https://mapcore-demo.org/current/flatmap/v2/flatmap/f94da5b45b2b33f420e51a3663056a9d98a7567b24eaf62fd77a347f97c4cf5a/annotations',\n",
       " 'https://mapcore-demo.org/current/flatmap/v2/flatmap/1340312b715b51552a0a62666b3ae4e7ccd40276e359d83d72dbe285672faf5e/annotations',\n",
       " 'https://mapcore-demo.org/current/flatmap/v2/flatmap/a63ea82480f916f293443c290a32813db60b11acddacadf23a5effff9b150df8/annotations',\n",
       " 'https://mapcore-demo.org/current/flatmap/v2/flatmap/66daf96873d852f5bbf0c2feeb2c00ac0b535c8bca27c3f6ad23b1bab1982d90/annotations',\n",
       " 'https://mapcore-demo.org/current/flatmap/v2/flatmap/5ee2eba1e202cda23f0ad515322cd6dd46053e7b4edd30faacabc22c363b2d4c/annotations',\n",
       " 'https://mapcore-demo.org/current/flatmap/v2/flatmap/4da35f41bf018550522f9791edcec5c248579be6d48b8f74a26ea63109661cde/annotations',\n",
       " 'https://mapcore-demo.org/current/flatmap/v2/flatmap/0016001874cded50286a96d99467f456e18222456bfe03fe08fdc2676272df19/annotations']"
      ]
     },
     "execution_count": 15,
     "metadata": {},
     "output_type": "execute_result"
    }
   ],
   "source": [
    "model_annotation_url_list"
   ]
  },
  {
   "cell_type": "code",
   "execution_count": 20,
   "metadata": {
    "id": "25JpsrkMYpWO"
   },
   "outputs": [],
   "source": [
    "model_image_annotations = []\n",
    "for url in model_annotation_url_list:\n",
    "  req= requests.get(url)\n",
    "  content=req.json()\n",
    "  model_image_annotations.append(content)\n",
    "    #model_image_annotations.append({layer_url_dict[0]['id'] : layer_url_dict[0]['image-layers']})"
   ]
  },
  {
   "cell_type": "markdown",
   "metadata": {
    "colab": {
     "base_uri": "https://localhost:8080/",
     "height": 345
    },
    "id": "uJAlnwNXZdZ_",
    "outputId": "1531d387-debd-49b6-c2dc-375e109e3908"
   },
   "source": [
    "  #Error is that literal_eval encountered a decimal in coordinates and is not happy with it; it has to be a string.\n",
    "  req= requests.get('https://mapcore-demo.org/current/flatmap/v2/flatmap/e2b09706ce736b49d48f49f7c83296f1a9e905d26a247da3e7854fb9f2bbdda5/annotations')\n",
    "  content=req.text\n",
    "  annot_url_dict = ast.literal_eval(content)"
   ]
  }
 ],
 "metadata": {
  "colab": {
   "name": "Generating_Flatmap_tutorial.ipynb",
   "provenance": []
  },
  "kernelspec": {
   "display_name": "Python 3 (ipykernel)",
   "language": "python",
   "name": "python3"
  },
  "language_info": {
   "codemirror_mode": {
    "name": "ipython",
    "version": 3
   },
   "file_extension": ".py",
   "mimetype": "text/x-python",
   "name": "python",
   "nbconvert_exporter": "python",
   "pygments_lexer": "ipython3",
   "version": "3.8.10"
  },
  "varInspector": {
   "cols": {
    "lenName": 16,
    "lenType": 16,
    "lenVar": 40
   },
   "kernels_config": {
    "python": {
     "delete_cmd_postfix": "",
     "delete_cmd_prefix": "del ",
     "library": "var_list.py",
     "varRefreshCmd": "print(var_dic_list())"
    },
    "r": {
     "delete_cmd_postfix": ") ",
     "delete_cmd_prefix": "rm(",
     "library": "var_list.r",
     "varRefreshCmd": "cat(var_dic_list()) "
    }
   },
   "types_to_exclude": [
    "module",
    "function",
    "builtin_function_or_method",
    "instance",
    "_Feature"
   ],
   "window_display": false
  }
 },
 "nbformat": 4,
 "nbformat_minor": 1
}
