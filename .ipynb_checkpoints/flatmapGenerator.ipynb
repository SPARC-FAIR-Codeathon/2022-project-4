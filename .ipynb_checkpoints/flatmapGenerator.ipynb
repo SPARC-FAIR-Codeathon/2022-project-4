{
 "cells": [
  {
   "cell_type": "code",
   "execution_count": 1,
   "metadata": {
    "colab": {
     "base_uri": "https://localhost:8080/"
    },
    "id": "3ypaMgTS0Rbq",
    "outputId": "43471985-7fbb-41cb-ee9e-f06d63f8ea41"
   },
   "outputs": [
    {
     "name": "stdout",
     "output_type": "stream",
     "text": [
      "Requirement already satisfied: ipyleaflet in /Users/chloehoff/opt/anaconda3/lib/python3.9/site-packages (0.17.0)\n",
      "Requirement already satisfied: xyzservices>=2021.8.1 in /Users/chloehoff/opt/anaconda3/lib/python3.9/site-packages (from ipyleaflet) (2022.6.0)\n",
      "Requirement already satisfied: traittypes<3,>=0.2.1 in /Users/chloehoff/opt/anaconda3/lib/python3.9/site-packages (from ipyleaflet) (0.2.1)\n",
      "Requirement already satisfied: ipywidgets<8,>=7.6.0 in /Users/chloehoff/opt/anaconda3/lib/python3.9/site-packages (from ipyleaflet) (7.6.5)\n",
      "Requirement already satisfied: widgetsnbextension~=3.5.0 in /Users/chloehoff/opt/anaconda3/lib/python3.9/site-packages (from ipywidgets<8,>=7.6.0->ipyleaflet) (3.5.2)\n",
      "Requirement already satisfied: ipython>=4.0.0 in /Users/chloehoff/opt/anaconda3/lib/python3.9/site-packages (from ipywidgets<8,>=7.6.0->ipyleaflet) (8.2.0)\n",
      "Requirement already satisfied: jupyterlab-widgets>=1.0.0 in /Users/chloehoff/opt/anaconda3/lib/python3.9/site-packages (from ipywidgets<8,>=7.6.0->ipyleaflet) (1.0.0)\n",
      "Requirement already satisfied: ipykernel>=4.5.1 in /Users/chloehoff/opt/anaconda3/lib/python3.9/site-packages (from ipywidgets<8,>=7.6.0->ipyleaflet) (6.9.1)\n",
      "Requirement already satisfied: nbformat>=4.2.0 in /Users/chloehoff/opt/anaconda3/lib/python3.9/site-packages (from ipywidgets<8,>=7.6.0->ipyleaflet) (5.3.0)\n",
      "Requirement already satisfied: ipython-genutils~=0.2.0 in /Users/chloehoff/opt/anaconda3/lib/python3.9/site-packages (from ipywidgets<8,>=7.6.0->ipyleaflet) (0.2.0)\n",
      "Requirement already satisfied: traitlets>=4.3.1 in /Users/chloehoff/opt/anaconda3/lib/python3.9/site-packages (from ipywidgets<8,>=7.6.0->ipyleaflet) (5.1.1)\n",
      "Requirement already satisfied: tornado<7.0,>=4.2 in /Users/chloehoff/opt/anaconda3/lib/python3.9/site-packages (from ipykernel>=4.5.1->ipywidgets<8,>=7.6.0->ipyleaflet) (6.1)\n",
      "Requirement already satisfied: appnope in /Users/chloehoff/opt/anaconda3/lib/python3.9/site-packages (from ipykernel>=4.5.1->ipywidgets<8,>=7.6.0->ipyleaflet) (0.1.2)\n",
      "Requirement already satisfied: debugpy<2.0,>=1.0.0 in /Users/chloehoff/opt/anaconda3/lib/python3.9/site-packages (from ipykernel>=4.5.1->ipywidgets<8,>=7.6.0->ipyleaflet) (1.5.1)\n",
      "Requirement already satisfied: matplotlib-inline<0.2.0,>=0.1.0 in /Users/chloehoff/opt/anaconda3/lib/python3.9/site-packages (from ipykernel>=4.5.1->ipywidgets<8,>=7.6.0->ipyleaflet) (0.1.2)\n",
      "Requirement already satisfied: nest-asyncio in /Users/chloehoff/opt/anaconda3/lib/python3.9/site-packages (from ipykernel>=4.5.1->ipywidgets<8,>=7.6.0->ipyleaflet) (1.5.5)\n",
      "Requirement already satisfied: jupyter-client<8.0 in /Users/chloehoff/opt/anaconda3/lib/python3.9/site-packages (from ipykernel>=4.5.1->ipywidgets<8,>=7.6.0->ipyleaflet) (6.1.12)\n",
      "Requirement already satisfied: prompt-toolkit!=3.0.0,!=3.0.1,<3.1.0,>=2.0.0 in /Users/chloehoff/opt/anaconda3/lib/python3.9/site-packages (from ipython>=4.0.0->ipywidgets<8,>=7.6.0->ipyleaflet) (3.0.20)\n",
      "Requirement already satisfied: stack-data in /Users/chloehoff/opt/anaconda3/lib/python3.9/site-packages (from ipython>=4.0.0->ipywidgets<8,>=7.6.0->ipyleaflet) (0.2.0)\n",
      "Requirement already satisfied: backcall in /Users/chloehoff/opt/anaconda3/lib/python3.9/site-packages (from ipython>=4.0.0->ipywidgets<8,>=7.6.0->ipyleaflet) (0.2.0)\n",
      "Requirement already satisfied: jedi>=0.16 in /Users/chloehoff/opt/anaconda3/lib/python3.9/site-packages (from ipython>=4.0.0->ipywidgets<8,>=7.6.0->ipyleaflet) (0.18.1)\n",
      "Requirement already satisfied: pexpect>4.3 in /Users/chloehoff/opt/anaconda3/lib/python3.9/site-packages (from ipython>=4.0.0->ipywidgets<8,>=7.6.0->ipyleaflet) (4.8.0)\n",
      "Requirement already satisfied: pickleshare in /Users/chloehoff/opt/anaconda3/lib/python3.9/site-packages (from ipython>=4.0.0->ipywidgets<8,>=7.6.0->ipyleaflet) (0.7.5)\n",
      "Requirement already satisfied: pygments>=2.4.0 in /Users/chloehoff/opt/anaconda3/lib/python3.9/site-packages (from ipython>=4.0.0->ipywidgets<8,>=7.6.0->ipyleaflet) (2.11.2)\n",
      "Requirement already satisfied: decorator in /Users/chloehoff/opt/anaconda3/lib/python3.9/site-packages (from ipython>=4.0.0->ipywidgets<8,>=7.6.0->ipyleaflet) (5.1.1)\n",
      "Requirement already satisfied: setuptools>=18.5 in /Users/chloehoff/opt/anaconda3/lib/python3.9/site-packages (from ipython>=4.0.0->ipywidgets<8,>=7.6.0->ipyleaflet) (61.2.0)\n",
      "Requirement already satisfied: parso<0.9.0,>=0.8.0 in /Users/chloehoff/opt/anaconda3/lib/python3.9/site-packages (from jedi>=0.16->ipython>=4.0.0->ipywidgets<8,>=7.6.0->ipyleaflet) (0.8.3)\n",
      "Requirement already satisfied: jupyter-core>=4.6.0 in /Users/chloehoff/opt/anaconda3/lib/python3.9/site-packages (from jupyter-client<8.0->ipykernel>=4.5.1->ipywidgets<8,>=7.6.0->ipyleaflet) (4.9.2)\n",
      "Requirement already satisfied: python-dateutil>=2.1 in /Users/chloehoff/opt/anaconda3/lib/python3.9/site-packages (from jupyter-client<8.0->ipykernel>=4.5.1->ipywidgets<8,>=7.6.0->ipyleaflet) (2.8.2)\n",
      "Requirement already satisfied: pyzmq>=13 in /Users/chloehoff/opt/anaconda3/lib/python3.9/site-packages (from jupyter-client<8.0->ipykernel>=4.5.1->ipywidgets<8,>=7.6.0->ipyleaflet) (22.3.0)\n",
      "Requirement already satisfied: jsonschema>=2.6 in /Users/chloehoff/opt/anaconda3/lib/python3.9/site-packages (from nbformat>=4.2.0->ipywidgets<8,>=7.6.0->ipyleaflet) (4.4.0)\n",
      "Requirement already satisfied: fastjsonschema in /Users/chloehoff/opt/anaconda3/lib/python3.9/site-packages (from nbformat>=4.2.0->ipywidgets<8,>=7.6.0->ipyleaflet) (2.15.1)\n",
      "Requirement already satisfied: pyrsistent!=0.17.0,!=0.17.1,!=0.17.2,>=0.14.0 in /Users/chloehoff/opt/anaconda3/lib/python3.9/site-packages (from jsonschema>=2.6->nbformat>=4.2.0->ipywidgets<8,>=7.6.0->ipyleaflet) (0.18.0)\n",
      "Requirement already satisfied: attrs>=17.4.0 in /Users/chloehoff/opt/anaconda3/lib/python3.9/site-packages (from jsonschema>=2.6->nbformat>=4.2.0->ipywidgets<8,>=7.6.0->ipyleaflet) (21.4.0)\n",
      "Requirement already satisfied: ptyprocess>=0.5 in /Users/chloehoff/opt/anaconda3/lib/python3.9/site-packages (from pexpect>4.3->ipython>=4.0.0->ipywidgets<8,>=7.6.0->ipyleaflet) (0.7.0)\n",
      "Requirement already satisfied: wcwidth in /Users/chloehoff/opt/anaconda3/lib/python3.9/site-packages (from prompt-toolkit!=3.0.0,!=3.0.1,<3.1.0,>=2.0.0->ipython>=4.0.0->ipywidgets<8,>=7.6.0->ipyleaflet) (0.2.5)\n",
      "Requirement already satisfied: six>=1.5 in /Users/chloehoff/opt/anaconda3/lib/python3.9/site-packages (from python-dateutil>=2.1->jupyter-client<8.0->ipykernel>=4.5.1->ipywidgets<8,>=7.6.0->ipyleaflet) (1.16.0)\n",
      "Requirement already satisfied: notebook>=4.4.1 in /Users/chloehoff/opt/anaconda3/lib/python3.9/site-packages (from widgetsnbextension~=3.5.0->ipywidgets<8,>=7.6.0->ipyleaflet) (6.4.8)\n",
      "Requirement already satisfied: prometheus-client in /Users/chloehoff/opt/anaconda3/lib/python3.9/site-packages (from notebook>=4.4.1->widgetsnbextension~=3.5.0->ipywidgets<8,>=7.6.0->ipyleaflet) (0.13.1)\n",
      "Requirement already satisfied: jinja2 in /Users/chloehoff/opt/anaconda3/lib/python3.9/site-packages (from notebook>=4.4.1->widgetsnbextension~=3.5.0->ipywidgets<8,>=7.6.0->ipyleaflet) (2.11.3)\n",
      "Requirement already satisfied: argon2-cffi in /Users/chloehoff/opt/anaconda3/lib/python3.9/site-packages (from notebook>=4.4.1->widgetsnbextension~=3.5.0->ipywidgets<8,>=7.6.0->ipyleaflet) (21.3.0)\n",
      "Requirement already satisfied: Send2Trash>=1.8.0 in /Users/chloehoff/opt/anaconda3/lib/python3.9/site-packages (from notebook>=4.4.1->widgetsnbextension~=3.5.0->ipywidgets<8,>=7.6.0->ipyleaflet) (1.8.0)\n",
      "Requirement already satisfied: terminado>=0.8.3 in /Users/chloehoff/opt/anaconda3/lib/python3.9/site-packages (from notebook>=4.4.1->widgetsnbextension~=3.5.0->ipywidgets<8,>=7.6.0->ipyleaflet) (0.13.1)\n",
      "Requirement already satisfied: nbconvert in /Users/chloehoff/opt/anaconda3/lib/python3.9/site-packages (from notebook>=4.4.1->widgetsnbextension~=3.5.0->ipywidgets<8,>=7.6.0->ipyleaflet) (6.4.4)\n",
      "Requirement already satisfied: argon2-cffi-bindings in /Users/chloehoff/opt/anaconda3/lib/python3.9/site-packages (from argon2-cffi->notebook>=4.4.1->widgetsnbextension~=3.5.0->ipywidgets<8,>=7.6.0->ipyleaflet) (21.2.0)\n",
      "Requirement already satisfied: cffi>=1.0.1 in /Users/chloehoff/opt/anaconda3/lib/python3.9/site-packages (from argon2-cffi-bindings->argon2-cffi->notebook>=4.4.1->widgetsnbextension~=3.5.0->ipywidgets<8,>=7.6.0->ipyleaflet) (1.15.0)\n",
      "Requirement already satisfied: pycparser in /Users/chloehoff/opt/anaconda3/lib/python3.9/site-packages (from cffi>=1.0.1->argon2-cffi-bindings->argon2-cffi->notebook>=4.4.1->widgetsnbextension~=3.5.0->ipywidgets<8,>=7.6.0->ipyleaflet) (2.21)\n"
     ]
    },
    {
     "name": "stdout",
     "output_type": "stream",
     "text": [
      "Requirement already satisfied: MarkupSafe>=0.23 in /Users/chloehoff/opt/anaconda3/lib/python3.9/site-packages (from jinja2->notebook>=4.4.1->widgetsnbextension~=3.5.0->ipywidgets<8,>=7.6.0->ipyleaflet) (2.0.1)\n",
      "Requirement already satisfied: nbclient<0.6.0,>=0.5.0 in /Users/chloehoff/opt/anaconda3/lib/python3.9/site-packages (from nbconvert->notebook>=4.4.1->widgetsnbextension~=3.5.0->ipywidgets<8,>=7.6.0->ipyleaflet) (0.5.13)\n",
      "Requirement already satisfied: entrypoints>=0.2.2 in /Users/chloehoff/opt/anaconda3/lib/python3.9/site-packages (from nbconvert->notebook>=4.4.1->widgetsnbextension~=3.5.0->ipywidgets<8,>=7.6.0->ipyleaflet) (0.4)\n",
      "Requirement already satisfied: bleach in /Users/chloehoff/opt/anaconda3/lib/python3.9/site-packages (from nbconvert->notebook>=4.4.1->widgetsnbextension~=3.5.0->ipywidgets<8,>=7.6.0->ipyleaflet) (4.1.0)\n",
      "Requirement already satisfied: defusedxml in /Users/chloehoff/opt/anaconda3/lib/python3.9/site-packages (from nbconvert->notebook>=4.4.1->widgetsnbextension~=3.5.0->ipywidgets<8,>=7.6.0->ipyleaflet) (0.7.1)\n",
      "Requirement already satisfied: testpath in /Users/chloehoff/opt/anaconda3/lib/python3.9/site-packages (from nbconvert->notebook>=4.4.1->widgetsnbextension~=3.5.0->ipywidgets<8,>=7.6.0->ipyleaflet) (0.5.0)\n",
      "Requirement already satisfied: pandocfilters>=1.4.1 in /Users/chloehoff/opt/anaconda3/lib/python3.9/site-packages (from nbconvert->notebook>=4.4.1->widgetsnbextension~=3.5.0->ipywidgets<8,>=7.6.0->ipyleaflet) (1.5.0)\n",
      "Requirement already satisfied: mistune<2,>=0.8.1 in /Users/chloehoff/opt/anaconda3/lib/python3.9/site-packages (from nbconvert->notebook>=4.4.1->widgetsnbextension~=3.5.0->ipywidgets<8,>=7.6.0->ipyleaflet) (0.8.4)\n",
      "Requirement already satisfied: beautifulsoup4 in /Users/chloehoff/opt/anaconda3/lib/python3.9/site-packages (from nbconvert->notebook>=4.4.1->widgetsnbextension~=3.5.0->ipywidgets<8,>=7.6.0->ipyleaflet) (4.11.1)\n",
      "Requirement already satisfied: jupyterlab-pygments in /Users/chloehoff/opt/anaconda3/lib/python3.9/site-packages (from nbconvert->notebook>=4.4.1->widgetsnbextension~=3.5.0->ipywidgets<8,>=7.6.0->ipyleaflet) (0.1.2)\n",
      "Requirement already satisfied: soupsieve>1.2 in /Users/chloehoff/opt/anaconda3/lib/python3.9/site-packages (from beautifulsoup4->nbconvert->notebook>=4.4.1->widgetsnbextension~=3.5.0->ipywidgets<8,>=7.6.0->ipyleaflet) (2.3.1)\n",
      "Requirement already satisfied: packaging in /Users/chloehoff/opt/anaconda3/lib/python3.9/site-packages (from bleach->nbconvert->notebook>=4.4.1->widgetsnbextension~=3.5.0->ipywidgets<8,>=7.6.0->ipyleaflet) (21.3)\n",
      "Requirement already satisfied: webencodings in /Users/chloehoff/opt/anaconda3/lib/python3.9/site-packages (from bleach->nbconvert->notebook>=4.4.1->widgetsnbextension~=3.5.0->ipywidgets<8,>=7.6.0->ipyleaflet) (0.5.1)\n",
      "Requirement already satisfied: pyparsing!=3.0.5,>=2.0.2 in /Users/chloehoff/opt/anaconda3/lib/python3.9/site-packages (from packaging->bleach->nbconvert->notebook>=4.4.1->widgetsnbextension~=3.5.0->ipywidgets<8,>=7.6.0->ipyleaflet) (3.0.4)\n",
      "Requirement already satisfied: executing in /Users/chloehoff/opt/anaconda3/lib/python3.9/site-packages (from stack-data->ipython>=4.0.0->ipywidgets<8,>=7.6.0->ipyleaflet) (0.8.3)\n",
      "Requirement already satisfied: asttokens in /Users/chloehoff/opt/anaconda3/lib/python3.9/site-packages (from stack-data->ipython>=4.0.0->ipywidgets<8,>=7.6.0->ipyleaflet) (2.0.5)\n",
      "Requirement already satisfied: pure-eval in /Users/chloehoff/opt/anaconda3/lib/python3.9/site-packages (from stack-data->ipython>=4.0.0->ipywidgets<8,>=7.6.0->ipyleaflet) (0.2.2)\n",
      "Requirement already satisfied: bs4 in /Users/chloehoff/opt/anaconda3/lib/python3.9/site-packages (0.0.1)\n",
      "Requirement already satisfied: beautifulsoup4 in /Users/chloehoff/opt/anaconda3/lib/python3.9/site-packages (from bs4) (4.11.1)\n",
      "Requirement already satisfied: soupsieve>1.2 in /Users/chloehoff/opt/anaconda3/lib/python3.9/site-packages (from beautifulsoup4->bs4) (2.3.1)\n",
      "Requirement already satisfied: requests in /Users/chloehoff/opt/anaconda3/lib/python3.9/site-packages (2.27.1)\n",
      "Requirement already satisfied: urllib3<1.27,>=1.21.1 in /Users/chloehoff/opt/anaconda3/lib/python3.9/site-packages (from requests) (1.26.9)\n",
      "Requirement already satisfied: charset-normalizer~=2.0.0 in /Users/chloehoff/opt/anaconda3/lib/python3.9/site-packages (from requests) (2.0.4)\n",
      "Requirement already satisfied: certifi>=2017.4.17 in /Users/chloehoff/opt/anaconda3/lib/python3.9/site-packages (from requests) (2021.10.8)\n",
      "Requirement already satisfied: idna<4,>=2.5 in /Users/chloehoff/opt/anaconda3/lib/python3.9/site-packages (from requests) (3.3)\n"
     ]
    }
   ],
   "source": [
    "# REQUIREMENTS\n",
    "! pip install ipyleaflet\n",
    "! pip install bs4\n",
    "! pip install requests\n"
   ]
  },
  {
   "cell_type": "code",
   "execution_count": 2,
   "metadata": {
    "id": "-rJgsTxz1B_e"
   },
   "outputs": [],
   "source": [
    "#Import libraries\n",
    "from ipyleaflet import Map, basemaps, basemap_to_tiles, TileLayer, Marker, MarkerCluster\n",
    "from bs4 import BeautifulSoup\n",
    "import requests\n"
   ]
  },
  {
   "cell_type": "markdown",
   "metadata": {
    "id": "c8-0VJiQ65vY"
   },
   "source": [
    "### Scrape all available URLS using Beautiful Soup\n"
   ]
  },
  {
   "cell_type": "code",
   "execution_count": 3,
   "metadata": {
    "id": "9r1SD8My7WHI"
   },
   "outputs": [],
   "source": [
    "#This URL can be changed\n",
    "server_url='https://mapcore-demo.org/current/flatmap/v2'\n",
    "req= requests.get(server_url)\n",
    "url_dict = req.json()"
   ]
  },
  {
   "cell_type": "code",
   "execution_count": 4,
   "metadata": {
    "id": "89dvXsnG9iW1"
   },
   "outputs": [],
   "source": [
    "#JOB : There are fields with non IDs, len=6 eliminated this, think of a smarter way!\n",
    "model_ids = [model_dict['id'] for model_dict in url_dict if 'name' in model_dict.keys() and 'id' in model_dict.keys()]\n",
    "model_name = [model_dict['name'] for model_dict in url_dict if 'name' in model_dict.keys() and 'id' in model_dict.keys()]\n",
    "  "
   ]
  },
  {
   "cell_type": "code",
   "execution_count": 17,
   "metadata": {},
   "outputs": [
    {
     "data": {
      "text/plain": [
       "['vagus_test',\n",
       " 'whole-human',\n",
       " 'whole-rat',\n",
       " 'whole-pig',\n",
       " 'whole-rat',\n",
       " 'whole-rat',\n",
       " 'whole-rat',\n",
       " 'whole-rat',\n",
       " 'whole-mouse',\n",
       " 'whole-cat',\n",
       " 'whole-human',\n",
       " 'whole-rat']"
      ]
     },
     "execution_count": 17,
     "metadata": {},
     "output_type": "execute_result"
    }
   ],
   "source": [
    "model_name\n"
   ]
  },
  {
   "cell_type": "markdown",
   "metadata": {
    "id": "Qvq-aqVCHT7u"
   },
   "source": [
    "### Get all layers for each model to be added sequentially to the map"
   ]
  },
  {
   "cell_type": "code",
   "execution_count": 5,
   "metadata": {
    "id": "x6d_fG3XHZUR"
   },
   "outputs": [],
   "source": [
    "#list of urls for flaatmaps\n",
    "model_layer_url_list = [f'{server_url}/flatmap/{id}/layers' for id, name in zip(model_ids, model_name)]"
   ]
  },
  {
   "cell_type": "code",
   "execution_count": 6,
   "metadata": {
    "id": "miBrPx-gH06Y"
   },
   "outputs": [],
   "source": [
    "model_image_layers = []\n",
    "for url in model_layer_url_list:\n",
    "  req= requests.get(url)\n",
    "  layer_url_dict = req.json()\n",
    "  model_image_layers.append({layer_url_dict[0]['id'] : layer_url_dict[0]['image-layers']})"
   ]
  },
  {
   "cell_type": "code",
   "execution_count": 129,
   "metadata": {
    "colab": {
     "base_uri": "https://localhost:8080/"
    },
    "id": "sxNM9jFKM78e",
    "outputId": "0221c2e5-2bc9-4e20-e81e-d878cf18d490"
   },
   "outputs": [
    {
     "data": {
      "text/plain": [
       "{'vagus_test': ['vagus_test_image']}"
      ]
     },
     "execution_count": 129,
     "metadata": {},
     "output_type": "execute_result"
    }
   ],
   "source": [
    "model_image_layers[0]\n"
   ]
  },
  {
   "cell_type": "code",
   "execution_count": null,
   "metadata": {},
   "outputs": [],
   "source": [
    "pip install pillow"
   ]
  },
  {
   "cell_type": "code",
   "execution_count": 65,
   "metadata": {},
   "outputs": [
    {
     "name": "stdout",
     "output_type": "stream",
     "text": [
      "The height of the image is:  3118\n",
      "The width of the image is:  2226\n"
     ]
    }
   ],
   "source": [
    "from PIL import Image\n",
    "import urllib.request\n",
    "  \n",
    "\n",
    "urllib.request.urlretrieve(\n",
    "  'http://larrywswanson.com/wp-content/uploads/2015/06/BM4-Flatmap-4-Beta-3-rat.png',\n",
    "   \"BM4-Flatmap-4-Beta-3-rat.png\")\n",
    "  \n",
    "img = Image.open(\"BM4-Flatmap-4-Beta-3-rat.png\")\n",
    "  \n",
    "# get width and height\n",
    "width = img.width\n",
    "height = img.height\n",
    "  \n",
    "# display width and height\n",
    "print(\"The height of the image is: \", height)\n",
    "print(\"The width of the image is: \", width)\n",
    "\n"
   ]
  },
  {
   "cell_type": "code",
   "execution_count": 156,
   "metadata": {},
   "outputs": [
    {
     "data": {
      "application/vnd.jupyter.widget-view+json": {
       "model_id": "0de9e5d8fee14112b1061b02ac65daa7",
       "version_major": 2,
       "version_minor": 0
      },
      "text/plain": [
       "Map(center=[0.0, 0.0], controls=(ZoomControl(options=['position', 'zoom_in_text', 'zoom_in_title', 'zoom_out_t…"
      ]
     },
     "metadata": {},
     "output_type": "display_data"
    }
   ],
   "source": [
    "from ipyleaflet import Map, ImageOverlay , basemaps, basemap_to_tiles \n",
    "from ipywidgets import Layout\n",
    "\n",
    "w = str(width)+'px'\n",
    "h = str(height)+'px'\n",
    "\n",
    "\n",
    "\n",
    "m= Map(\n",
    "    basemap=TileLayer(\n",
    "                    url= \"http://larrywswanson.com/wp-content/uploads/2015/06/BM4-Flatmap-4-Beta-3-rat.png\",\n",
    "                    min_zoom=index_json['min-zoom']),\n",
    "    min_zoom=index_json['min-zoom'],\n",
    "    max_zoom=index_json['max-zoom'],\n",
    "    zoom=6,\n",
    "    scroll_wheel_zoom=True,\n",
    "    dragging=True,\n",
    "    attribution_control=False,\n",
    "    zoom_snap=False\n",
    ")\n",
    "\n",
    "#m = Map(basemap=basemaps.HikeBike.HikeBike, center= (0,0), zoom=0, layout=Layout(width= w, height= h) )\n",
    "\n",
    "\n",
    "image = ImageOverlay(\n",
    "    url=\"http://larrywswanson.com/wp-content/uploads/2015/06/BM4-Flatmap-4-Beta-3-rat.png\",\n",
    "    bounds = index_json['bounds']\n",
    ")\n",
    "#m.add_layer(image);\n",
    "m\n"
   ]
  },
  {
   "cell_type": "markdown",
   "metadata": {
    "id": "C7DiuUhKQ3Lb"
   },
   "source": [
    "### Create a map with all layers of a model added seqentially to a map"
   ]
  },
  {
   "cell_type": "code",
   "execution_count": 52,
   "metadata": {
    "colab": {
     "base_uri": "https://localhost:8080/"
    },
    "id": "udXXrEYsQ7fB",
    "outputId": "aad1aff5-4fd9-4824-a445-15ed2a2679f0"
   },
   "outputs": [
    {
     "data": {
      "text/plain": [
       "['https://mapcore-demo.org/current/flatmap/v2/flatmap/83f6c97d571b67fb4c273e20287b53b4f0a1f70780d3d6a2a282e66cef5f9473/tiles/vagus_test_image/{z}/{x}/{y}']"
      ]
     },
     "execution_count": 52,
     "metadata": {},
     "output_type": "execute_result"
    }
   ],
   "source": [
    "#Choose one of the models in tag (There are 11 in the main URL)\n",
    "\n",
    "#tag is index from list above\n",
    "\n",
    "tag = 0\n",
    "tile_urls = [f'{server_url}/flatmap/{model_ids[tag]}/tiles/{layer}/{{z}}/{{x}}/{{y}}' for layer in model_image_layers[tag][model_name[tag]]]\n",
    "tile_urls"
   ]
  },
  {
   "cell_type": "code",
   "execution_count": 9,
   "metadata": {},
   "outputs": [],
   "source": [
    "req = requests.get(f'{server_url}/flatmap/{model_ids[tag]}',headers={'Accept':'json'})\n",
    "index_json = req.json()"
   ]
  },
  {
   "cell_type": "code",
   "execution_count": 10,
   "metadata": {
    "id": "JFGhjLyzMM_K"
   },
   "outputs": [],
   "source": [
    "#Create a base map object with the first tile\n",
    "map = Map(\n",
    "    basemap=TileLayer(\n",
    "                    url=tile_urls[0], \n",
    "                    min_zoom=index_json['min-zoom']),\n",
    "    min_zoom=index_json['min-zoom'],\n",
    "    max_zoom=index_json['max-zoom'],\n",
    "    zoom=5,\n",
    "    scroll_wheel_zoom=True,\n",
    "    dragging=True,\n",
    "    attribution_control=False,\n",
    "    zoom_snap=False,\n",
    ")\n",
    "\n",
    "#Create tile objects for the model with each layer added\n",
    "for tile_url in tile_urls[1:]:\n",
    "\n",
    "  map.add(TileLayer(\n",
    "    url=tile_url, \n",
    "    min_zoom=index_json['min-zoom']))\n",
    "\n",
    "bounds = index_json['bounds']\n",
    "map.fit_bounds([[bounds[1],bounds[0]],[bounds[3],bounds[2]]])"
   ]
  },
  {
   "cell_type": "markdown",
   "metadata": {
    "id": "kmAk-4dDYZFo"
   },
   "source": [
    "### Add annotations for the map"
   ]
  },
  {
   "cell_type": "code",
   "execution_count": 11,
   "metadata": {},
   "outputs": [],
   "source": [
    "# Get annotations for this map\n",
    "req = requests.get(f'{server_url}/flatmap/{model_ids[tag]}/annotations')\n",
    "annotations = req.json()"
   ]
  },
  {
   "cell_type": "code",
   "execution_count": 12,
   "metadata": {},
   "outputs": [],
   "source": [
    "# Add all annotations to a Marker Cluster\n",
    "markers = []\n",
    "for key in annotations.keys():\n",
    "    y,x = annotations[key]['centroid']\n",
    "    if 'label' in annotations[key].keys():\n",
    "        marker = Marker(location=[x,y],title=annotations[key]['label'])\n",
    "    else:\n",
    "        marker = Marker(location=[x,y])\n",
    "    markers.append(marker)\n",
    "\n",
    "map.add_layer(MarkerCluster(markers=markers))"
   ]
  },
  {
   "cell_type": "code",
   "execution_count": 135,
   "metadata": {},
   "outputs": [
    {
     "data": {
      "text/plain": [
       "(TileLayer(base=True, min_zoom=2, options=['attribution', 'bounds', 'detect_retina', 'max_native_zoom', 'max_zoom', 'min_native_zoom', 'min_zoom', 'no_wrap', 'tile_size', 'tms'], url='https://mapcore-demo.org/current/flatmap/v2/flatmap/83f6c97d571b67fb4c273e20287b53b4f0a1f70780d3d6a2a282e66cef5f9473/tiles/vagus_test_image/{z}/{x}/{y}'),\n",
       " TileLayer(options=['attribution', 'bounds', 'detect_retina', 'max_native_zoom', 'max_zoom', 'min_native_zoom', 'min_zoom', 'no_wrap', 'tile_size', 'tms'], url='https://mapcore-demo.org/current/flatmap/v2/flatmap/83f6c97d571b67fb4c273e20287b53b4f0a1f70780d3d6a2a282e66cef5f9473/tiles/vagus_test_image/{z}/{x}/{y}'),\n",
       " TileLayer(options=['attribution', 'bounds', 'detect_retina', 'max_native_zoom', 'max_zoom', 'min_native_zoom', 'min_zoom', 'no_wrap', 'tile_size', 'tms'], url='https://mapcore-demo.org/current/flatmap/v2/flatmap/83f6c97d571b67fb4c273e20287b53b4f0a1f70780d3d6a2a282e66cef5f9473/tiles/vagus_test_image/{z}/{x}/{y}'))"
      ]
     },
     "execution_count": 135,
     "metadata": {},
     "output_type": "execute_result"
    }
   ],
   "source": [
    "#flatmap itself\n",
    "map.layers"
   ]
  },
  {
   "cell_type": "code",
   "execution_count": 162,
   "metadata": {},
   "outputs": [
    {
     "data": {
      "application/vnd.jupyter.widget-view+json": {
       "model_id": "7539361ff82e4c2e8a32d24e32b833a3",
       "version_major": 2,
       "version_minor": 0
      },
      "text/plain": [
       "Map(center=[0, 0], controls=(ZoomControl(options=['position', 'zoom_in_text', 'zoom_in_title', 'zoom_out_text'…"
      ]
     },
     "metadata": {},
     "output_type": "display_data"
    }
   ],
   "source": [
    "from ipyleaflet import Map, basemaps, TileLayer, SplitMapControl\n",
    "\n",
    "splitmap =Map(center = (0, 0), zoom = 1)\n",
    "\n",
    "\n",
    "left = TileLayer(\n",
    "                    url=tile_urls[0],\n",
    "                    zoom = 5\n",
    "        )\n",
    "#map.layers[2]\n",
    "\n",
    "#TileLayer(\n",
    "#    url= model_layer_url_list[3]\n",
    "#)\n",
    "\n",
    "right = TileLayer(\n",
    "                    url= \"http://larrywswanson.com/wp-content/uploads/2015/06/BM4-Flatmap-4-Beta-3-rat.png\")\n",
    "\n",
    "control = SplitMapControl(left_layer=left, right_layer=right)\n",
    "splitmap.add_control(control)\n",
    "\n",
    "\n",
    "splitmap"
   ]
  },
  {
   "cell_type": "markdown",
   "metadata": {},
   "source": [
    "### Add annotations for the map"
   ]
  },
  {
   "cell_type": "code",
   "execution_count": 14,
   "metadata": {
    "id": "q8CuFFloQgET"
   },
   "outputs": [],
   "source": [
    "model_annotation_url_list = ['https://mapcore-demo.org/current/flatmap/v2/flatmap/'+id+'/annotations'   for id, name in zip(model_ids, model_name)]"
   ]
  },
  {
   "cell_type": "code",
   "execution_count": 15,
   "metadata": {
    "colab": {
     "base_uri": "https://localhost:8080/"
    },
    "id": "TIClcGXSYm4j",
    "outputId": "b06b184a-4fa1-4756-c5a2-d0507c065d34"
   },
   "outputs": [
    {
     "data": {
      "text/plain": [
       "['https://mapcore-demo.org/current/flatmap/v2/flatmap/83f6c97d571b67fb4c273e20287b53b4f0a1f70780d3d6a2a282e66cef5f9473/annotations',\n",
       " 'https://mapcore-demo.org/current/flatmap/v2/flatmap/4e758a1feb4dd73ac500b29dcf65e9c80031395fd9c2ee4c521c2e784c9885fc/annotations',\n",
       " 'https://mapcore-demo.org/current/flatmap/v2/flatmap/e2b09706ce736b49d48f49f7c83296f1a9e905d26a247da3e7854fb9f2bbdda5/annotations',\n",
       " 'https://mapcore-demo.org/current/flatmap/v2/flatmap/1220ab6b172448ccf9dd8c4d748447248d3185b25123dd5b4700d33c04d80011/annotations',\n",
       " 'https://mapcore-demo.org/current/flatmap/v2/flatmap/f28ef9e4e6bc0ab59b074f82944b9238dad70b37fcf65cc9773089f10d75831a/annotations',\n",
       " 'https://mapcore-demo.org/current/flatmap/v2/flatmap/f94da5b45b2b33f420e51a3663056a9d98a7567b24eaf62fd77a347f97c4cf5a/annotations',\n",
       " 'https://mapcore-demo.org/current/flatmap/v2/flatmap/1340312b715b51552a0a62666b3ae4e7ccd40276e359d83d72dbe285672faf5e/annotations',\n",
       " 'https://mapcore-demo.org/current/flatmap/v2/flatmap/a63ea82480f916f293443c290a32813db60b11acddacadf23a5effff9b150df8/annotations',\n",
       " 'https://mapcore-demo.org/current/flatmap/v2/flatmap/66daf96873d852f5bbf0c2feeb2c00ac0b535c8bca27c3f6ad23b1bab1982d90/annotations',\n",
       " 'https://mapcore-demo.org/current/flatmap/v2/flatmap/5ee2eba1e202cda23f0ad515322cd6dd46053e7b4edd30faacabc22c363b2d4c/annotations',\n",
       " 'https://mapcore-demo.org/current/flatmap/v2/flatmap/4da35f41bf018550522f9791edcec5c248579be6d48b8f74a26ea63109661cde/annotations',\n",
       " 'https://mapcore-demo.org/current/flatmap/v2/flatmap/0016001874cded50286a96d99467f456e18222456bfe03fe08fdc2676272df19/annotations']"
      ]
     },
     "execution_count": 15,
     "metadata": {},
     "output_type": "execute_result"
    }
   ],
   "source": [
    "model_annotation_url_list"
   ]
  },
  {
   "cell_type": "code",
   "execution_count": 16,
   "metadata": {
    "id": "25JpsrkMYpWO"
   },
   "outputs": [],
   "source": [
    "model_image_annotations = []\n",
    "for url in model_annotation_url_list:\n",
    "  req= requests.get(url)\n",
    "  content=req.json()\n",
    "  model_image_annotations.append(content)\n",
    "    #model_image_annotations.append({layer_url_dict[0]['id'] : layer_url_dict[0]['image-layers']})"
   ]
  },
  {
   "cell_type": "markdown",
   "metadata": {
    "colab": {
     "base_uri": "https://localhost:8080/",
     "height": 345
    },
    "id": "uJAlnwNXZdZ_",
    "outputId": "1531d387-debd-49b6-c2dc-375e109e3908"
   },
   "source": [
    "  #Error is that literal_eval encountered a decimal in coordinates and is not happy with it; it has to be a string.\n",
    "  req= requests.get('https://mapcore-demo.org/current/flatmap/v2/flatmap/e2b09706ce736b49d48f49f7c83296f1a9e905d26a247da3e7854fb9f2bbdda5/annotations')\n",
    "  content=req.text\n",
    "  annot_url_dict = ast.literal_eval(content)"
   ]
  }
 ],
 "metadata": {
  "colab": {
   "name": "Generating_Flatmap_tutorial.ipynb",
   "provenance": []
  },
  "kernelspec": {
   "display_name": "Python 3 (ipykernel)",
   "language": "python",
   "name": "python3"
  },
  "language_info": {
   "codemirror_mode": {
    "name": "ipython",
    "version": 3
   },
   "file_extension": ".py",
   "mimetype": "text/x-python",
   "name": "python",
   "nbconvert_exporter": "python",
   "pygments_lexer": "ipython3",
   "version": "3.9.12"
  },
  "varInspector": {
   "cols": {
    "lenName": 16,
    "lenType": 16,
    "lenVar": 40
   },
   "kernels_config": {
    "python": {
     "delete_cmd_postfix": "",
     "delete_cmd_prefix": "del ",
     "library": "var_list.py",
     "varRefreshCmd": "print(var_dic_list())"
    },
    "r": {
     "delete_cmd_postfix": ") ",
     "delete_cmd_prefix": "rm(",
     "library": "var_list.r",
     "varRefreshCmd": "cat(var_dic_list()) "
    }
   },
   "types_to_exclude": [
    "module",
    "function",
    "builtin_function_or_method",
    "instance",
    "_Feature"
   ],
   "window_display": false
  }
 },
 "nbformat": 4,
 "nbformat_minor": 1
}
